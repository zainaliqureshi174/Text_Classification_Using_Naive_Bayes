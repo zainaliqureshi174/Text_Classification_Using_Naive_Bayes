{
 "cells": [
  {
   "cell_type": "markdown",
   "metadata": {
    "slideshow": {
     "slide_type": "slide"
    }
   },
   "source": [
    "# Assignment No 2c\n",
    "#### Assignment Credit \n",
    "###### *Dr. Sibt ul Hussain*\n",
    "\n",
    "\n",
    "Text Classification (Sentiment Analysis) Using Bayes Rule \n",
    "==============\n",
    "\n",
    "\n",
    "## Goal\n",
    "\n",
    "Your goal in this part of assigment is to implement a Naive Bayes Multinomial classifier using  bag of words model for the classification of text (movie reviews) into different categories..\n",
    "\n",
    "**Note** Please note that you are allowed to use only those libraries which we have discussed in the class, i.e. numpy, scipy, pandas.\n",
    "\n",
    "Once you have build and test the model on the provided dataset. You will use the learned techniques to compete in a [Kaggle](https://www.kaggle.com/c/word2vec-nlp-tutorial) competition and report your final score and leaderboard ranking to get full credit.\n",
    "\n",
    "For final submission attach the screen-shot of the leader-board with your score.\n",
    "\n",
    "## Submission Instructions\n",
    "You are required to submit the original notebook file on the Slate (with .ipynb extension), with complete set of outputs. Students failing to do so will get zero marks. \n",
    "\n",
    "*Please read each step carefully and understand it fully before proceeding with code writing*\n",
    "\n",
    "## Plagiarism\n",
    "Any form of plagiarism will not be tolerated and result in 0 marks.\n"
   ]
  },
  {
   "cell_type": "code",
   "execution_count": 31,
   "metadata": {
    "slideshow": {
     "slide_type": "slide"
    }
   },
   "outputs": [
    {
     "name": "stdout",
     "output_type": "stream",
     "text": [
      "%pylab is deprecated, use %matplotlib inline and import the required libraries.\n",
      "Populating the interactive namespace from numpy and matplotlib\n"
     ]
    },
    {
     "name": "stderr",
     "output_type": "stream",
     "text": [
      "/home/muhammad/anaconda3/lib/python3.11/site-packages/IPython/core/magics/pylab.py:162: UserWarning: pylab import has clobbered these variables: ['f', 'text']\n",
      "`%matplotlib` prevents importing * from pylab and numpy\n",
      "  warn(\"pylab import has clobbered these variables: %s\"  % clobbered +\n"
     ]
    }
   ],
   "source": [
    "%pylab inline\n",
    "import scipy.stats\n",
    "import pandas as pd\n",
    "import tools as t\n",
    "from collections import defaultdict, Counter\n",
    "import time\n",
    "from PIL import Image"
   ]
  },
  {
   "cell_type": "code",
   "execution_count": 32,
   "metadata": {
    "deletable": false,
    "jupyter": {
     "outputs_hidden": true
    },
    "nbgrader": {
     "checksum": "41bc7183ffc40d65a148fc72fb955046",
     "grade": false,
     "grade_id": "parse_string",
     "locked": false,
     "solution": true
    }
   },
   "outputs": [],
   "source": [
    "import re\n",
    "\n",
    "def parse_string(string): \n",
    "    \"\"\"\"\n",
    "        Parse the input string and tokenize it using regular expressisons:\n",
    "        First clean the string such that it does not have any punctuation or number, it must only have a-z and A-Z.\n",
    "        Please note that while doing this, the spaces much not get disturbed, but in case of multiple spaces convert \n",
    "        them to one space.\n",
    "        Then convert the string to lower case and return its words as a list of strings.\n",
    "        \n",
    "        Example:\n",
    "        --------\n",
    "        Input :  computer scien_tist-s are,,,  the  rock__stars of tomorrow_ <cool>  ????\n",
    "        Output:  ['computer', 'scientists', 'are', 'the', 'rockstars', 'of', 'tomorrow']\n",
    "        \n",
    "        Parameters:\n",
    "        ----------\n",
    "        string: string to be parsed...\n",
    "        re: regular expression to be used for the tokenization.\n",
    "        \n",
    "        Returns:\n",
    "        ---------\n",
    "        list of tokens extracted from the string...\n",
    "    \"\"\"\n",
    "    \n",
    "    # YOUR CODE HERE\n",
    "    # Removing tags < >\n",
    "    no_tags = re.sub(r'<[^>]+>', '', string)\n",
    "    \n",
    "    # Removing punctuation and numbers, keep spaces\n",
    "    cleaned_string = re.sub(r'[^a-zA-Z\\s]', '', no_tags)\n",
    "    \n",
    "    # Normalizing whitespace (replace multiple spaces with one)\n",
    "    cleaned_string = re.sub(r'\\s+', ' ', cleaned_string)\n",
    "    \n",
    "    # Converting to lowercase\n",
    "    cleaned_string = cleaned_string.lower()\n",
    "    \n",
    "    # Spliting into words and return as a list\n",
    "    return cleaned_string.strip().split()"
   ]
  },
  {
   "cell_type": "code",
   "execution_count": 33,
   "metadata": {
    "deletable": false,
    "nbgrader": {
     "checksum": "a5035e3a9d5a9db47fdbafa62cc8a6a3",
     "grade": false,
     "grade_id": "parse_file",
     "locked": false,
     "solution": true
    }
   },
   "outputs": [],
   "source": [
    "def parse_file(filename): \n",
    "    \"\"\"\"\n",
    "    Parameters:\n",
    "    ----------\n",
    "    filename: name of text file to be read\n",
    "    \n",
    "    Returns:\n",
    "    ---------\n",
    "    read file as string (decoded if necessary)\n",
    "    \"\"\"\n",
    "    # Open file in text mode (not binary) and ensure correct encoding\n",
    "    with open(filename, 'r', encoding='utf-8') as file:\n",
    "        content = file.read()\n",
    "    return content"
   ]
  },
  {
   "cell_type": "code",
   "execution_count": 34,
   "metadata": {
    "deletable": false,
    "jupyter": {
     "outputs_hidden": true
    },
    "nbgrader": {
     "checksum": "6d2b49b37e798724777c6c429add90f1",
     "grade": false,
     "grade_id": "files_to_string",
     "locked": false,
     "solution": true
    }
   },
   "outputs": [],
   "source": [
    "def files_to_strings(X):\n",
    "    \n",
    "    \"\"\"\n",
    "        Read an array (or list) of files where each file content is read in a string...\n",
    "        Input:\n",
    "        -------\n",
    "        X an array (or list) of file names\n",
    "        \n",
    "        Returns:\n",
    "        --------\n",
    "        X as a numpy array with each row containing a read string from the file...\n",
    "    \"\"\"\n",
    "    \n",
    "    # YOUR CODE HERE\n",
    "    x = []\n",
    "    for i in range(len(X)):\n",
    "        x.append(parse_file(X[i]))\n",
    "    X = np.array(x)\n",
    "    \n",
    "    return X"
   ]
  },
  {
   "cell_type": "code",
   "execution_count": 35,
   "metadata": {
    "deletable": false,
    "nbgrader": {
     "checksum": "96714a19700e62e9b60de218a6e81b58",
     "grade": true,
     "grade_id": "test_reading_and_parsing",
     "locked": true,
     "points": 2,
     "solution": false
    }
   },
   "outputs": [],
   "source": [
    "from nose.tools import assert_equal, assert_list_equal\n",
    "\n",
    "assert_list_equal(parse_string(\"computer scien_tist-s are,,,  the  rock__stars of tomorrow_ <cool>  ????\"),\n",
    "        [u'computer', u'scientists', u'are', u'the', u'rockstars', u'of', u'tomorrow'], \"Incorrect cleanning\")\n",
    "\n",
    "\n",
    "strings = files_to_strings(np.array([\"./data/imdb1/neg/cv000_29416.txt\", \"./data/imdb1/pos/cv000_29590.txt\"]))\n",
    "with open(\"./data/imdb1/neg/cv000_29416.txt\") as f:\n",
    "    text = f.read()\n",
    "\n",
    "assert_equal(strings[0], text, \"At first index should be text of first file\")\n",
    "assert_equal(strings.shape, (2,), \"Shape must be (2,) for two files in list\")"
   ]
  },
  {
   "cell_type": "code",
   "execution_count": 36,
   "metadata": {},
   "outputs": [],
   "source": [
    "def create_bow_dict(token_list):\n",
    "    \"\"\"\n",
    "    Creates a Bag of Words using a dictionary for each document.\n",
    "    \n",
    "    Parameters:\n",
    "    -----------\n",
    "    tokens: list of tokens (documents)\n",
    "    \n",
    "    Returns:\n",
    "    --------\n",
    "    Dictionary which represents the word counts of a document\n",
    "    \"\"\"\n",
    "\n",
    "    word_count = {}\n",
    "    for token in token_list:\n",
    "        if token in word_count:\n",
    "            word_count[token] += 1\n",
    "        else:\n",
    "            word_count[token] = 1\n",
    "\n",
    "    return word_count"
   ]
  },
  {
   "cell_type": "code",
   "execution_count": 43,
   "metadata": {},
   "outputs": [],
   "source": [
    "def Remove_stopwords(Tokens):\n",
    "    \"\"\"\n",
    "    Removes stopwords from a list of tokens.\n",
    "    \n",
    "    Parameters:\n",
    "    -----------\n",
    "    Tokens: list\n",
    "        A list of words (tokens) from a single document.\n",
    "        \n",
    "    Returns:\n",
    "    --------\n",
    "    filtered_tokens: list\n",
    "        A list with stopwords removed.\n",
    "    \"\"\"\n",
    "    stopwords = ['is', 'a', 'for', 'the', 'of', 'in', 'and', 'to', 'an']\n",
    "    filtered_tokens = [word for word in Tokens if word not in stopwords]\n",
    "    return filtered_tokens"
   ]
  },
  {
   "cell_type": "markdown",
   "metadata": {},
   "source": [
    "## Class Without removing Stopwords"
   ]
  },
  {
   "cell_type": "code",
   "execution_count": 20,
   "metadata": {
    "deletable": false,
    "nbgrader": {
     "checksum": "4412e1df0ae5399bde4cfc7440cdc052",
     "grade": false,
     "grade_id": "classifier",
     "locked": false,
     "solution": true
    },
    "slideshow": {
     "slide_type": "slide"
    }
   },
   "outputs": [],
   "source": [
    "# YOUR CODE HERE\n",
    "        \n",
    "## Hint, you can use python dictionary or default dict for counting the words\n",
    "# or counter class from collections \n",
    "\n",
    "#TODO Complete this class for running the complete classifier... \n",
    "\n",
    "#You might need to define auxiliary classes for the complete algorithm.\n",
    "\n",
    "\n",
    "class NaiveBayes:\n",
    "    ''' Implements the Naive Bayes For Text Classification '''\n",
    "    \n",
    "    def __init__(self, classes):\n",
    "        self.classes = classes\n",
    "        self.class_word_counts = defaultdict(Counter)  # Store word counts for each class\n",
    "        self.class_counts = defaultdict(int)  # Store example counts per class\n",
    "        self.vocab = set()  # Store all unique words across the dataset\n",
    "        self.class_priors = defaultdict(float)  # Store prior probabilities for each class\n",
    "        \n",
    "    def addExample(self, x, y):\n",
    "        '''\n",
    "        Add example to the corresponding class model.\n",
    "        Input:\n",
    "        ---------\n",
    "        x: example (list of words)\n",
    "        y: label (class label)\n",
    "        '''\n",
    "        # Update word counts and total examples for the class\n",
    "        self.class_word_counts[y].update(x)\n",
    "        self.class_counts[y] += 1\n",
    "        self.vocab.update(x)\n",
    "    \n",
    "    def train(self, X, Y):\n",
    "        ''' \n",
    "        Train the Naive Bayes model using the given data matrix X and labels Y.\n",
    "        \n",
    "        Input:\n",
    "        ------\n",
    "        X: [m x d] a data matrix of m d-dimensional examples.\n",
    "        Y: [m x 1] a label vector.\n",
    "        \n",
    "        Returns:\n",
    "        -----------\n",
    "        Nothing\n",
    "        '''\n",
    "        # Process each example and its corresponding label\n",
    "        for x, y in zip(X, Y):\n",
    "            words = x[0].split()  # Split the document into words\n",
    "            self.addExample(words, y)\n",
    "        \n",
    "        total_examples = len(Y)\n",
    "        \n",
    "        # Calculate prior probabilities for each class\n",
    "        for c in self.classes:\n",
    "            self.class_priors[c] = self.class_counts[c] / total_examples\n",
    "        \n",
    "    def test(self, X):\n",
    "        ''' \n",
    "        Test the trained classifier on the given set of examples.\n",
    "        \n",
    "        Input:\n",
    "        ------\n",
    "        X: [m x d] a data matrix of m d-dimensional test examples.\n",
    "        \n",
    "        Returns:\n",
    "        -----------\n",
    "        pclass: the predicted class for each example.\n",
    "        '''\n",
    "        pclasses = []\n",
    "        \n",
    "        # Process each example\n",
    "        for x in X:\n",
    "            words = x[0].split()  # Split the test example into words\n",
    "            predicted_class = self.predict(words)\n",
    "            pclasses.append(predicted_class)\n",
    "        \n",
    "        return np.array(pclasses)\n",
    "    \n",
    "    def predict(self, x):\n",
    "        '''\n",
    "        Predict the label of a given input example.\n",
    "        \n",
    "        Input:\n",
    "        ---------\n",
    "        x: example (list of words)\n",
    "        \n",
    "        Returns:\n",
    "        ---------\n",
    "        predicted_class: The class with the highest score.\n",
    "        '''\n",
    "        class_scores = {}\n",
    "        total_vocab_size = len(self.vocab)\n",
    "        \n",
    "        # Compute the log likelihood for each class\n",
    "        for c in self.classes:\n",
    "            # Start with the log prior probability of the class\n",
    "            class_scores[c] = np.log(self.class_priors[c])\n",
    "            \n",
    "            # Calculate the log-likelihood for each word in the example\n",
    "            word_count = self.class_word_counts[c]\n",
    "            total_words_in_class = sum(list(word_count.values()))  # Total words in this class\n",
    "            \n",
    "            # Compute log-likelihood with Laplace smoothing\n",
    "            for word in x:\n",
    "                word_likelihood = (word_count[word] + 1) / (total_words_in_class + total_vocab_size)\n",
    "                class_scores[c] += np.log(word_likelihood)\n",
    "        \n",
    "        # Return the class with the highest log probability\n",
    "        return max(class_scores, key=class_scores.get)\n"
   ]
  },
  {
   "cell_type": "markdown",
   "metadata": {},
   "source": [
    "## Class With removing stopwords"
   ]
  },
  {
   "cell_type": "code",
   "execution_count": 44,
   "metadata": {},
   "outputs": [],
   "source": [
    "class NaiveBayes:\n",
    "    ''' Implements the Naive Bayes For Text Classification '''\n",
    "    \n",
    "    def __init__(self, classes):\n",
    "        self.classes = classes\n",
    "        self.class_word_counts = defaultdict(Counter)  # Store word counts for each class\n",
    "        self.class_counts = defaultdict(int)  # Store example counts per class\n",
    "        self.vocab = set()  # Store all unique words across the dataset\n",
    "        self.class_priors = defaultdict(float)  # Store prior probabilities for each class\n",
    "        \n",
    "    def addExample(self, x, y):\n",
    "        '''\n",
    "        Add example to the corresponding class model.\n",
    "        Input:\n",
    "        ---------\n",
    "        x: example (list of words)\n",
    "        y: label (class label)\n",
    "        '''\n",
    "        # Remove stopwords from the example\n",
    "        filtered_words = Remove_stopwords(x)\n",
    "        \n",
    "        # Update word counts and total examples for the class\n",
    "        self.class_word_counts[y].update(filtered_words)\n",
    "        self.class_counts[y] += 1\n",
    "        self.vocab.update(filtered_words)\n",
    "    \n",
    "    def train(self, X, Y):\n",
    "        ''' \n",
    "        Train the Naive Bayes model using the given data matrix X and labels Y.\n",
    "        \n",
    "        Input:\n",
    "        ------\n",
    "        X: [m x d] a data matrix of m d-dimensional examples.\n",
    "        Y: [m x 1] a label vector.\n",
    "        \n",
    "        Returns:\n",
    "        -----------\n",
    "        Nothing\n",
    "        '''\n",
    "        # Process each example and its corresponding label\n",
    "        for x, y in zip(X, Y):\n",
    "            words = x[0].split()  # Split the document into words\n",
    "            self.addExample(words, y)\n",
    "        \n",
    "        total_examples = len(Y)\n",
    "        \n",
    "        # Calculate prior probabilities for each class\n",
    "        for c in self.classes:\n",
    "            self.class_priors[c] = self.class_counts[c] / total_examples\n",
    "        \n",
    "    def test(self, X):\n",
    "        ''' \n",
    "        Test the trained classifier on the given set of examples.\n",
    "        \n",
    "        Input:\n",
    "        ------\n",
    "        X: [m x d] a data matrix of m d-dimensional test examples.\n",
    "        \n",
    "        Returns:\n",
    "        -----------\n",
    "        pclass: the predicted class for each example.\n",
    "        '''\n",
    "        pclasses = []\n",
    "        \n",
    "        # Process each example\n",
    "        for x in X:\n",
    "            words = x[0].split()  # Split the test example into words\n",
    "            predicted_class = self.predict(words)\n",
    "            pclasses.append(predicted_class)\n",
    "        \n",
    "        return np.array(pclasses)\n",
    "    \n",
    "    def predict(self, x):\n",
    "        '''\n",
    "        Predict the label of a given input example.\n",
    "        \n",
    "        Input:\n",
    "        ---------\n",
    "        x: example (list of words)\n",
    "        \n",
    "        Returns:\n",
    "        ---------\n",
    "        predicted_class: The class with the highest score.\n",
    "        '''\n",
    "        class_scores = {}\n",
    "        total_vocab_size = len(self.vocab)\n",
    "        \n",
    "        # Remove stopwords from the input example\n",
    "        filtered_words = Remove_stopwords(x)\n",
    "        \n",
    "        # Compute the log likelihood for each class\n",
    "        for c in self.classes:\n",
    "            # Start with the log prior probability of the class\n",
    "            class_scores[c] = np.log(self.class_priors[c])\n",
    "            \n",
    "            # Calculate the log-likelihood for each word in the example\n",
    "            word_count = self.class_word_counts[c]\n",
    "            total_words_in_class = sum(list(word_count.values()))  # Total words in this class\n",
    "            \n",
    "            # Compute log-likelihood with Laplace smoothing\n",
    "            for word in filtered_words:\n",
    "                word_likelihood = (word_count[word] + 1) / (total_words_in_class + total_vocab_size)\n",
    "                class_scores[c] += np.log(word_likelihood)\n",
    "        \n",
    "        # Return the class with the highest log probability\n",
    "        return max(class_scores, key=class_scores.get)"
   ]
  },
  {
   "cell_type": "code",
   "execution_count": 45,
   "metadata": {
    "slideshow": {
     "slide_type": "slide"
    }
   },
   "outputs": [],
   "source": [
    "tdir= \"./data/imdb1/\" # training dir...\n",
    "#load data, get list of files for each class...\n",
    "posfiles=t.get_files(tdir+'/pos','*',withpath=True)\n",
    "negfiles=t.get_files(tdir+'/neg','*',withpath=True)"
   ]
  },
  {
   "cell_type": "code",
   "execution_count": 46,
   "metadata": {},
   "outputs": [
    {
     "name": "stdout",
     "output_type": "stream",
     "text": [
      "Training data Dimensions = (2000,)  Training labels dimensions= (2000,)\n"
     ]
    }
   ],
   "source": [
    "#generate training and testing data...\n",
    "plabels=['pos']*len(posfiles)\n",
    "nlabels=['neg']*len(posfiles)\n",
    "labels=np.concatenate((plabels,nlabels)) # concatenate the +ve and -ve labels\n",
    "tX=np.concatenate((posfiles,negfiles))\n",
    "print (\"Training data Dimensions =\", tX.shape,\" Training labels dimensions=\", labels.shape)"
   ]
  },
  {
   "cell_type": "code",
   "execution_count": 47,
   "metadata": {},
   "outputs": [],
   "source": [
    "X=files_to_strings(tX) # read files and convert each file into set of strings and return an numpy array\n",
    "X = X.reshape((X.shape[0], 1))\n",
    "#Split the data into two halves training and test set...\n",
    "traindata,trainlabels,testdata,testlabels=t.split_data(X,labels)\n",
    "#Find the classes to train\n",
    "classes=np.unique(labels)\n",
    "#Train"
   ]
  },
  {
   "cell_type": "markdown",
   "metadata": {},
   "source": [
    "## Calling without Removing Stopwords"
   ]
  },
  {
   "cell_type": "code",
   "execution_count": 24,
   "metadata": {
    "scrolled": true
   },
   "outputs": [
    {
     "name": "stdout",
     "output_type": "stream",
     "text": [
      "[Info] training a classifier for following classes neg, pos\n",
      "[Info] Accuracy = 0.7833333333333333\n"
     ]
    }
   ],
   "source": [
    "#Now build a Naive Bayes classifier and test it...\n",
    "print ('[Info] training a classifier for following classes {}, {}'.format(classes[0],classes[1]))\n",
    "nb=NaiveBayes(classes)\n",
    "nb.train(traindata,trainlabels)\n",
    "pclasses=nb.test(testdata)\n",
    "acc=np.sum(pclasses==testlabels)/float(testlabels.shape[0])\n",
    "print (\"[Info] Accuracy = {}\".format(acc))"
   ]
  },
  {
   "cell_type": "markdown",
   "metadata": {},
   "source": [
    "## Calling with Removing Stopwords"
   ]
  },
  {
   "cell_type": "code",
   "execution_count": 48,
   "metadata": {},
   "outputs": [
    {
     "name": "stdout",
     "output_type": "stream",
     "text": [
      "[Info] training a classifier for following classes neg, pos\n",
      "[Info] Accuracy = 0.805\n"
     ]
    }
   ],
   "source": [
    "#Now build a Naive Bayes classifier and test it...\n",
    "print ('[Info] training a classifier for following classes {}, {}'.format(classes[0],classes[1]))\n",
    "nb=NaiveBayes(classes)\n",
    "nb.train(traindata,trainlabels)\n",
    "pclasses=nb.test(testdata)\n",
    "acc=np.sum(pclasses==testlabels)/float(testlabels.shape[0])\n",
    "print (\"[Info] Accuracy = {}\".format(acc))"
   ]
  },
  {
   "cell_type": "markdown",
   "metadata": {},
   "source": [
    "### Test Cells Start\n",
    "#### Do not Modify"
   ]
  },
  {
   "cell_type": "code",
   "execution_count": 49,
   "metadata": {
    "deletable": false,
    "nbgrader": {
     "checksum": "5822a32f567e3fb7e7f8515eacddec7d",
     "grade": true,
     "grade_id": "test_classifier_shapes",
     "locked": true,
     "points": 1,
     "solution": false
    }
   },
   "outputs": [],
   "source": [
    "from nose.tools import assert_in, assert_equal\n",
    "\n",
    "nb = NaiveBayes(classes)\n",
    "nb.train(traindata, trainlabels)\n",
    "assert_equal(nb.test(testdata).shape[0], testdata.shape[0])\n",
    "assert_in(type(nb.predict([\"ok\"])), [str, np.str_, str], \"Predict should return a label not list or array\")\n"
   ]
  },
  {
   "cell_type": "code",
   "execution_count": 50,
   "metadata": {
    "deletable": false,
    "nbgrader": {
     "checksum": "c4695c7d2b42d0e0570c50ab36361afd",
     "grade": true,
     "grade_id": "test_acc",
     "locked": true,
     "points": 3,
     "solution": false
    }
   },
   "outputs": [],
   "source": [
    "from nose.tools import assert_greater\n",
    "\n",
    "nb=NaiveBayes(classes)\n",
    "nb.train(traindata,trainlabels)\n",
    "pclasses=nb.test(testdata)\n",
    "acc=np.sum(pclasses==testlabels)/float(testlabels.shape[0])\n",
    "assert_greater(acc, 0.77, \"Acc must be greater then 77% you are doing something wrong\")    "
   ]
  },
  {
   "cell_type": "code",
   "execution_count": 51,
   "metadata": {
    "deletable": false,
    "nbgrader": {
     "checksum": "268244e33988983787a2f3e3b8f6eba3",
     "grade": true,
     "grade_id": "test_classifier_responce",
     "locked": true,
     "points": 4,
     "solution": false
    }
   },
   "outputs": [],
   "source": [
    "from nose.tools import assert_equal\n",
    "\n",
    "comment_pos = \"A nice movie, the case was good. Overall a perfect play\"\n",
    "comment_neg = \"A waste of time, cast was bad. a clear No!\"\n",
    "\n",
    "#generate training and testing data...\n",
    "tX=np.concatenate((posfiles,negfiles))\n",
    "X=files_to_strings(tX)\n",
    "X = X.reshape((X.shape[0], 1))\n",
    "\n",
    "plabels=['pos']*len(posfiles)\n",
    "nlabels=['neg']*len(posfiles)\n",
    "true_labels = np.concatenate((plabels,nlabels))\n",
    "inverted_labels = np.concatenate((nlabels,plabels))\n",
    "\n",
    "true_nb=NaiveBayes(classes)\n",
    "true_nb.train(X,true_labels)\n",
    "\n",
    "inverted_nb=NaiveBayes(classes)\n",
    "inverted_nb.train(X,inverted_labels)\n",
    "\n",
    "assert_equal( true_nb.predict(comment_pos.split()), \"pos\" )\n",
    "assert_equal( true_nb.predict(comment_neg.split()), \"neg\" )\n",
    "\n",
    "assert_equal( inverted_nb.predict(comment_pos.split()), \"neg\" )\n",
    "assert_equal( inverted_nb.predict(comment_neg.split()), \"pos\" )"
   ]
  },
  {
   "cell_type": "markdown",
   "metadata": {},
   "source": [
    "### Test Cells End"
   ]
  },
  {
   "cell_type": "markdown",
   "metadata": {},
   "source": [
    "# Cross Validation\n",
    "\n",
    "Now lets throw our methods to winds of different folds and measure their accuracy..."
   ]
  },
  {
   "cell_type": "code",
   "execution_count": 52,
   "metadata": {},
   "outputs": [
    {
     "name": "stdout",
     "output_type": "stream",
     "text": [
      "Generating CV data for 2 classes\n",
      "(1800, 1) (200, 1)\n",
      "(1800, 1) (200, 1)\n",
      "(1800, 1) (200, 1)\n",
      "(1800, 1) (200, 1)\n",
      "(1800, 1) (200, 1)\n",
      "(1800, 1) (200, 1)\n",
      "(1800, 1) (200, 1)\n",
      "(1800, 1) (200, 1)\n",
      "(1800, 1) (200, 1)\n",
      "(1800, 1) (200, 1)\n"
     ]
    }
   ],
   "source": [
    "#Now lets generate n-fold training and testing data...\n",
    "nfolds=10\n",
    "folds=t.generate_folds(X,labels,nfolds) # generate folds for \n",
    "for k in arange(len(folds)):\n",
    "    print (folds[k][0].shape, folds[k][2].shape)"
   ]
  },
  {
   "cell_type": "code",
   "execution_count": 53,
   "metadata": {},
   "outputs": [
    {
     "name": "stdout",
     "output_type": "stream",
     "text": [
      "[Info] Fold 1 Accuracy = 0.805\n",
      "[Info] Fold 2 Accuracy = 0.775\n",
      "[Info] Fold 3 Accuracy = 0.825\n",
      "[Info] Fold 4 Accuracy = 0.79\n",
      "[Info] Fold 5 Accuracy = 0.8\n",
      "[Info] Fold 6 Accuracy = 0.845\n",
      "[Info] Fold 7 Accuracy = 0.79\n",
      "[Info] Fold 8 Accuracy = 0.8\n",
      "[Info] Fold 9 Accuracy = 0.845\n",
      "[Info] Fold 10 Accuracy = 0.87\n",
      "[0.805, 0.775, 0.825, 0.79, 0.8, 0.845, 0.79, 0.8, 0.845, 0.87]\n",
      "[Info] Mean Accuracy = 0.8145\n"
     ]
    }
   ],
   "source": [
    "totacc=[]\n",
    "#train a classifier for each fold...\n",
    "classes=np.unique(labels)\n",
    "\n",
    "for k in range(nfolds):\n",
    "    nb=NaiveBayes(classes)\n",
    "    \n",
    "    traindata=folds[k][0]\n",
    "    trainlabels=folds[k][1]\n",
    "    \n",
    "    #Lets first train the classifier\n",
    "    nb.train(traindata,trainlabels)\n",
    "    \n",
    "    testdata=folds[k][2]\n",
    "    testlabels=folds[k][3]\n",
    "    \n",
    "    #Lets test the classifier\n",
    "    pclasses= nb.test(testdata)\n",
    "    \n",
    "    #print pclasses\n",
    "    acc=np.sum(pclasses==testlabels)/float(testlabels.shape[0])\n",
    "    print (\"[Info] Fold {} Accuracy = {}\".format(k+1, acc))\n",
    "    \n",
    "    totacc.append(acc)\n",
    "\n",
    "print (totacc)\n",
    "\n",
    "mean_acc = np.mean(totacc)\n",
    "print ('[Info] Mean Accuracy =', mean_acc)"
   ]
  },
  {
   "cell_type": "markdown",
   "metadata": {
    "collapsed": true,
    "jupyter": {
     "outputs_hidden": true
    }
   },
   "source": [
    "# Excellent, now its time to go into real waters of Kaggle.\n",
    "\n",
    "\n",
    "You will be needed to create an account on the Kaggle and download the data for the competition [\"Bag of words meets bags of popcorn\"](https://www.kaggle.com/c/word2vec-nlp-tutorial/data).  Note that you will be only downloading the \"labeledTrainData.tsv\" and \"labeledTestData.tsv\".\n",
    "\n",
    "\n",
    "\"labeledTrainData.tsv\" will be used for training your model and thus have prespecified labels for each example review. \"labeledTestData.tsv\" will be used for testing your model and thus don't have prespecified labels for each example. You will predicting the label for each review and then uploading your result to Kaggle server which will be evaluating your model and will give score to your entry. You will report this score during your assignment submission.\n",
    "\n",
    "**[Caution]** Please note that Kaggle limits maximum number of evaluations per 24 hours to 5 to reduce the overfitting on the test set, so be careful and throughly test your model before submitting your entry to Kaggle server. \n",
    "\n",
    "Read the instructions on the Competition Page. Note you are not allowed to use any of the library except what we have learned during class."
   ]
  },
  {
   "cell_type": "code",
   "execution_count": 55,
   "metadata": {},
   "outputs": [],
   "source": [
    "# read the data-set\n",
    "train=pd.read_csv('labeledTrainData.tsv',sep='\\t')"
   ]
  },
  {
   "cell_type": "code",
   "execution_count": 56,
   "metadata": {},
   "outputs": [
    {
     "data": {
      "text/html": [
       "<div>\n",
       "<style scoped>\n",
       "    .dataframe tbody tr th:only-of-type {\n",
       "        vertical-align: middle;\n",
       "    }\n",
       "\n",
       "    .dataframe tbody tr th {\n",
       "        vertical-align: top;\n",
       "    }\n",
       "\n",
       "    .dataframe thead th {\n",
       "        text-align: right;\n",
       "    }\n",
       "</style>\n",
       "<table border=\"1\" class=\"dataframe\">\n",
       "  <thead>\n",
       "    <tr style=\"text-align: right;\">\n",
       "      <th></th>\n",
       "      <th>sentiment</th>\n",
       "    </tr>\n",
       "  </thead>\n",
       "  <tbody>\n",
       "    <tr>\n",
       "      <th>count</th>\n",
       "      <td>25000.00000</td>\n",
       "    </tr>\n",
       "    <tr>\n",
       "      <th>mean</th>\n",
       "      <td>0.50000</td>\n",
       "    </tr>\n",
       "    <tr>\n",
       "      <th>std</th>\n",
       "      <td>0.50001</td>\n",
       "    </tr>\n",
       "    <tr>\n",
       "      <th>min</th>\n",
       "      <td>0.00000</td>\n",
       "    </tr>\n",
       "    <tr>\n",
       "      <th>25%</th>\n",
       "      <td>0.00000</td>\n",
       "    </tr>\n",
       "    <tr>\n",
       "      <th>50%</th>\n",
       "      <td>0.50000</td>\n",
       "    </tr>\n",
       "    <tr>\n",
       "      <th>75%</th>\n",
       "      <td>1.00000</td>\n",
       "    </tr>\n",
       "    <tr>\n",
       "      <th>max</th>\n",
       "      <td>1.00000</td>\n",
       "    </tr>\n",
       "  </tbody>\n",
       "</table>\n",
       "</div>"
      ],
      "text/plain": [
       "         sentiment\n",
       "count  25000.00000\n",
       "mean       0.50000\n",
       "std        0.50001\n",
       "min        0.00000\n",
       "25%        0.00000\n",
       "50%        0.50000\n",
       "75%        1.00000\n",
       "max        1.00000"
      ]
     },
     "execution_count": 56,
     "metadata": {},
     "output_type": "execute_result"
    }
   ],
   "source": [
    "train.describe()"
   ]
  },
  {
   "cell_type": "code",
   "execution_count": 57,
   "metadata": {},
   "outputs": [
    {
     "data": {
      "text/html": [
       "<div>\n",
       "<style scoped>\n",
       "    .dataframe tbody tr th:only-of-type {\n",
       "        vertical-align: middle;\n",
       "    }\n",
       "\n",
       "    .dataframe tbody tr th {\n",
       "        vertical-align: top;\n",
       "    }\n",
       "\n",
       "    .dataframe thead th {\n",
       "        text-align: right;\n",
       "    }\n",
       "</style>\n",
       "<table border=\"1\" class=\"dataframe\">\n",
       "  <thead>\n",
       "    <tr style=\"text-align: right;\">\n",
       "      <th></th>\n",
       "      <th>id</th>\n",
       "      <th>sentiment</th>\n",
       "      <th>review</th>\n",
       "    </tr>\n",
       "  </thead>\n",
       "  <tbody>\n",
       "    <tr>\n",
       "      <th>0</th>\n",
       "      <td>5814_8</td>\n",
       "      <td>1</td>\n",
       "      <td>With all this stuff going down at the moment w...</td>\n",
       "    </tr>\n",
       "    <tr>\n",
       "      <th>1</th>\n",
       "      <td>2381_9</td>\n",
       "      <td>1</td>\n",
       "      <td>\\The Classic War of the Worlds\\\" by Timothy Hi...</td>\n",
       "    </tr>\n",
       "    <tr>\n",
       "      <th>2</th>\n",
       "      <td>7759_3</td>\n",
       "      <td>0</td>\n",
       "      <td>The film starts with a manager (Nicholas Bell)...</td>\n",
       "    </tr>\n",
       "    <tr>\n",
       "      <th>3</th>\n",
       "      <td>3630_4</td>\n",
       "      <td>0</td>\n",
       "      <td>It must be assumed that those who praised this...</td>\n",
       "    </tr>\n",
       "    <tr>\n",
       "      <th>4</th>\n",
       "      <td>9495_8</td>\n",
       "      <td>1</td>\n",
       "      <td>Superbly trashy and wondrously unpretentious 8...</td>\n",
       "    </tr>\n",
       "  </tbody>\n",
       "</table>\n",
       "</div>"
      ],
      "text/plain": [
       "       id  sentiment                                             review\n",
       "0  5814_8          1  With all this stuff going down at the moment w...\n",
       "1  2381_9          1  \\The Classic War of the Worlds\\\" by Timothy Hi...\n",
       "2  7759_3          0  The film starts with a manager (Nicholas Bell)...\n",
       "3  3630_4          0  It must be assumed that those who praised this...\n",
       "4  9495_8          1  Superbly trashy and wondrously unpretentious 8..."
      ]
     },
     "execution_count": 57,
     "metadata": {},
     "output_type": "execute_result"
    }
   ],
   "source": [
    "train.head()"
   ]
  },
  {
   "cell_type": "code",
   "execution_count": 58,
   "metadata": {},
   "outputs": [
    {
     "name": "stdout",
     "output_type": "stream",
     "text": [
      "(25000,)\n"
     ]
    }
   ],
   "source": [
    "Yt=train['sentiment']\n",
    "Xt=train['review']\n",
    "Xt=np.array(Xt)\n",
    "Yt=np.array(Yt)\n",
    "\n",
    "print (Xt.shape)"
   ]
  },
  {
   "cell_type": "code",
   "execution_count": 59,
   "metadata": {},
   "outputs": [],
   "source": [
    "#read test set...\n",
    "test=pd.read_csv('testData.tsv',sep='\\t')"
   ]
  },
  {
   "cell_type": "code",
   "execution_count": 60,
   "metadata": {},
   "outputs": [
    {
     "data": {
      "text/html": [
       "<div>\n",
       "<style scoped>\n",
       "    .dataframe tbody tr th:only-of-type {\n",
       "        vertical-align: middle;\n",
       "    }\n",
       "\n",
       "    .dataframe tbody tr th {\n",
       "        vertical-align: top;\n",
       "    }\n",
       "\n",
       "    .dataframe thead th {\n",
       "        text-align: right;\n",
       "    }\n",
       "</style>\n",
       "<table border=\"1\" class=\"dataframe\">\n",
       "  <thead>\n",
       "    <tr style=\"text-align: right;\">\n",
       "      <th></th>\n",
       "      <th>id</th>\n",
       "      <th>review</th>\n",
       "    </tr>\n",
       "  </thead>\n",
       "  <tbody>\n",
       "    <tr>\n",
       "      <th>0</th>\n",
       "      <td>12311_10</td>\n",
       "      <td>Naturally in a film who's main themes are of m...</td>\n",
       "    </tr>\n",
       "    <tr>\n",
       "      <th>1</th>\n",
       "      <td>8348_2</td>\n",
       "      <td>This movie is a disaster within a disaster fil...</td>\n",
       "    </tr>\n",
       "    <tr>\n",
       "      <th>2</th>\n",
       "      <td>5828_4</td>\n",
       "      <td>All in all, this is a movie for kids. We saw i...</td>\n",
       "    </tr>\n",
       "    <tr>\n",
       "      <th>3</th>\n",
       "      <td>7186_2</td>\n",
       "      <td>Afraid of the Dark left me with the impression...</td>\n",
       "    </tr>\n",
       "    <tr>\n",
       "      <th>4</th>\n",
       "      <td>12128_7</td>\n",
       "      <td>A very accurate depiction of small time mob li...</td>\n",
       "    </tr>\n",
       "  </tbody>\n",
       "</table>\n",
       "</div>"
      ],
      "text/plain": [
       "         id                                             review\n",
       "0  12311_10  Naturally in a film who's main themes are of m...\n",
       "1    8348_2  This movie is a disaster within a disaster fil...\n",
       "2    5828_4  All in all, this is a movie for kids. We saw i...\n",
       "3    7186_2  Afraid of the Dark left me with the impression...\n",
       "4   12128_7  A very accurate depiction of small time mob li..."
      ]
     },
     "execution_count": 60,
     "metadata": {},
     "output_type": "execute_result"
    }
   ],
   "source": [
    "test.head()"
   ]
  },
  {
   "cell_type": "markdown",
   "metadata": {},
   "source": [
    "#### Training Time "
   ]
  },
  {
   "cell_type": "code",
   "execution_count": 61,
   "metadata": {
    "deletable": false,
    "nbgrader": {
     "checksum": "560d69ba70bb62a18e317665c5058abe",
     "grade": false,
     "grade_id": "kaggle_cell_1",
     "locked": true,
     "solution": false
    }
   },
   "outputs": [],
   "source": [
    "# Let's split the training data into two halves and test our accuracy...\n",
    "traindata,trainlabels,testdata,testlabels=t.split_data(Xt.reshape((Xt.shape[0],1)),Yt)\n",
    "classes=np.unique(trainlabels)"
   ]
  },
  {
   "cell_type": "code",
   "execution_count": 62,
   "metadata": {
    "deletable": false,
    "nbgrader": {
     "checksum": "65200523b8bf7de2418ba0de0fb987c6",
     "grade": false,
     "grade_id": "kaggle_cell_2",
     "locked": true,
     "solution": false
    }
   },
   "outputs": [
    {
     "name": "stdout",
     "output_type": "stream",
     "text": [
      "[Info] training a classifier for following classes 0, 1\n",
      "[Info] Accuracy = 0.85\n"
     ]
    }
   ],
   "source": [
    "# Now lets go and train the model and see its performance...\n",
    "print ('[Info] training a classifier for following classes {}, {}'.format(classes[0],classes[1]))\n",
    "nb=NaiveBayes(classes)\n",
    "nb.train(traindata,trainlabels)\n",
    "pclasses=nb.test(testdata)\n",
    "acc=np.sum(pclasses==testlabels)/float(testlabels.shape[0])\n",
    "print (\"[Info] Accuracy = {}\".format(acc) )"
   ]
  },
  {
   "cell_type": "markdown",
   "metadata": {},
   "source": [
    "#### Cross-Validation Time..."
   ]
  },
  {
   "cell_type": "code",
   "execution_count": 63,
   "metadata": {
    "deletable": false,
    "nbgrader": {
     "checksum": "e3f8832c8d5c5aec3a4686f9cf13bf5a",
     "grade": false,
     "grade_id": "kaggle_cell_3",
     "locked": true,
     "solution": false
    }
   },
   "outputs": [
    {
     "name": "stdout",
     "output_type": "stream",
     "text": [
      "Generating CV data for 2 classes\n",
      "(22500, 1) (2500, 1)\n",
      "(22500, 1) (2500, 1)\n",
      "(22500, 1) (2500, 1)\n",
      "(22500, 1) (2500, 1)\n",
      "(22500, 1) (2500, 1)\n",
      "(22500, 1) (2500, 1)\n",
      "(22500, 1) (2500, 1)\n",
      "(22500, 1) (2500, 1)\n",
      "(22500, 1) (2500, 1)\n",
      "(22500, 1) (2500, 1)\n"
     ]
    }
   ],
   "source": [
    "#Split the training data into 10 folds and test classifiers performance...\n",
    "\n",
    "nfolds=10\n",
    "folds=t.generate_folds(Xt.reshape((Xt.shape[0],1)),Yt,nfolds) # generate folds for \n",
    "for k in arange(len(folds)):\n",
    "    print (folds[k][0].shape, folds[k][2].shape)"
   ]
  },
  {
   "cell_type": "code",
   "execution_count": 64,
   "metadata": {
    "deletable": false,
    "nbgrader": {
     "checksum": "85c038543210c9d4b02762be14730d9b",
     "grade": false,
     "grade_id": "kaggle_cell_4",
     "locked": true,
     "solution": false
    }
   },
   "outputs": [
    {
     "name": "stdout",
     "output_type": "stream",
     "text": [
      "[Info] Fold 1 Accuracy = 0.8564\n",
      "[Info] Fold 2 Accuracy = 0.8604\n",
      "[Info] Fold 3 Accuracy = 0.8552\n",
      "[Info] Fold 4 Accuracy = 0.8476\n",
      "[Info] Fold 5 Accuracy = 0.848\n",
      "[Info] Fold 6 Accuracy = 0.8476\n",
      "[Info] Fold 7 Accuracy = 0.8484\n",
      "[Info] Fold 8 Accuracy = 0.8444\n",
      "[Info] Fold 9 Accuracy = 0.8668\n",
      "[Info] Fold 10 Accuracy = 0.8372\n",
      "[0.8564, 0.8604, 0.8552, 0.8476, 0.848, 0.8476, 0.8484, 0.8444, 0.8668, 0.8372]\n",
      "[Info] Mean Accuracy = 0.8511999999999998\n"
     ]
    }
   ],
   "source": [
    "# As it takes time, so becareful it can cause your machine into red hot oven\n",
    "totacc=[]\n",
    "classes=np.unique(Yt)\n",
    "\n",
    "for k in range(nfolds):\n",
    "    nb=NaiveBayes(classes)\n",
    "    \n",
    "    traindata=folds[k][0]\n",
    "    trainlabels=folds[k][1]\n",
    "    \n",
    "    #Lets first train the classifier\n",
    "    nb.train(traindata,trainlabels)\n",
    "    \n",
    "    testdata=folds[k][2]\n",
    "    testlabels=folds[k][3]\n",
    "    \n",
    "    #Lets test the classifier\n",
    "    pclasses= nb.test(testdata)\n",
    "    \n",
    "    acc=np.sum(pclasses==testlabels)/float(testlabels.shape[0])\n",
    "    print (\"[Info] Fold {} Accuracy = {}\".format(k+1, acc) ) \n",
    "    \n",
    "    totacc.append(acc)\n",
    "\n",
    "print (totacc)\n",
    "print ('[Info] Mean Accuracy =', np.mean(totacc))"
   ]
  },
  {
   "cell_type": "markdown",
   "metadata": {},
   "source": [
    "# Now let's train on the complete dataset and test on the provided test set..."
   ]
  },
  {
   "cell_type": "code",
   "execution_count": 65,
   "metadata": {
    "deletable": false,
    "nbgrader": {
     "checksum": "c27687a3a83576b5360a0e383909305f",
     "grade": false,
     "grade_id": "kaggle_cell_5",
     "locked": true,
     "solution": false
    }
   },
   "outputs": [
    {
     "name": "stdout",
     "output_type": "stream",
     "text": [
      "Training a Classifier on Full training set with classes = [0 1]\n"
     ]
    }
   ],
   "source": [
    "classes= np.unique(Yt)\n",
    "print ('Training a Classifier on Full training set with classes =', classes)\n",
    "nb=NaiveBayes(classes)\n",
    "nb.train(Xt.reshape(Xt.shape[0],1),Yt)"
   ]
  },
  {
   "cell_type": "code",
   "execution_count": 68,
   "metadata": {
    "deletable": false,
    "jupyter": {
     "outputs_hidden": true
    },
    "nbgrader": {
     "checksum": "2df4444c4b4fcbde8568ffea728d5658",
     "grade": false,
     "grade_id": "kaggle_cell_6",
     "locked": true,
     "solution": false
    }
   },
   "outputs": [],
   "source": [
    "# Get the test data as a NumPy array\n",
    "Xtest = np.array(Xtest).reshape((Xtest.shape[0], 1))\n",
    "\n",
    "# Test the classifier on the provided test set\n",
    "pclasses = nb.test(Xtest)"
   ]
  },
  {
   "cell_type": "code",
   "execution_count": 69,
   "metadata": {
    "deletable": false,
    "jupyter": {
     "outputs_hidden": true
    },
    "nbgrader": {
     "checksum": "a902480b291b88f6c9fb7422cd845305",
     "grade": false,
     "grade_id": "kaggle_cell_7",
     "locked": true,
     "solution": false
    }
   },
   "outputs": [],
   "source": [
    "#write the result in the kaggle's required format\n",
    "output = pd.DataFrame( data={\"id\":test[\"id\"], \"sentiment\":pclasses} )\n",
    "\n",
    "# Use pandas to write the comma-separated output file\n",
    "output.to_csv( \"Naive_bays_Bag_of_Words_model.csv\", index=False, quoting=3 )"
   ]
  },
  {
   "cell_type": "markdown",
   "metadata": {},
   "source": [
    "# Time to Upload the prediction to Kaggle...\n",
    "\n",
    "Now upload the result on the Kaggle and see your ranking and score. Using this simple method you can have an accuracy of around 0.80960."
   ]
  },
  {
   "cell_type": "markdown",
   "metadata": {},
   "source": [
    "# Improvement by Excluding Stop Words...\n",
    "\n",
    "You can improve your score further by excluding the commonly occuring words (also known as stop words) in the English language.\n",
    "\n"
   ]
  },
  {
   "cell_type": "code",
   "execution_count": 71,
   "metadata": {},
   "outputs": [
    {
     "name": "stdout",
     "output_type": "stream",
     "text": [
      "{'all', 'through', 'per', 'whither', 'must', 'regards', 'behind', 'value', 'everybody', 'usually', 'itself', 'such', 'seems', 'first', \"you'd\", 'despite', 'came', 'inward', 'different', 'beyond', 'want', 'across', 'since', 'overall', 'example', 'sent', 'away', 'cause', 'tends', 'edu', \"shouldn't\", 'c', 'probably', 'among', 'otherwise', 'became', 'available', 'aside', 'are', \"i'll\", \"i've\", 'look', 'far', 'only', 'm', 'than', 'lately', 'each', 'fifth', 'was', 'can', \"aren't\", 'eight', 'appear', 'anything', 'ex', 'doing', 'near', 'use', 'when', 'whenever', 'less', 'noone', 'five', 'p', 'out', 'believe', 'might', 'knows', 'then', 'during', 'apart', 'considering', 'given', 'becomes', \"isn't\", 'obviously', 'you', 'changes', 'whom', \"a's\", 'your', \"they're\", 'its', 'whether', 'get', 'sup', 'insofar', 'if', 'nd', 'become', 'from', 'provides', 'hither', 'according', 'his', 'useful', 'second', 'have', 'immediate', 'wherein', 'third', 'quite', 'four', 'us', 'everyone', 'via', 'because', 'course', 'going', 'meanwhile', 'which', 'e', 'hers', 'so', 'these', 'little', 'following', 'took', 'under', 'secondly', 'viz', 'a', 'against', 'qv', 'rather', 'particular', 'regarding', 'did', 'ignored', 'formerly', 'why', 'for', 'thanks', 'indicated', 'and', 'already', 'somewhere', 'certain', 'uucp', 'tried', \"wasn't\", 'ones', 'specifying', 'n', 'appreciate', 'nor', 'seriously', 'two', 'to', 'un', 'moreover', 'shall', 'much', 'amongst', 'say', 'therefore', 'com', \"i'm\", 'oh', \"they'll\", \"he's\", 'yours', 'those', 'above', 'nothing', 'ie', 'thereupon', 'yourself', 'however', 'next', \"you'll\", 'latter', 'maybe', \"we'll\", 'me', 'an', 'later', 'does', \"don't\", 'well', 'normally', \"you've\", 'after', 'within', 'further', 'perhaps', 'ok', 'currently', 'ourselves', 'way', 'hello', 're', 'where', 'how', 'should', 'themselves', 'my', 'hopefully', 'along', 'by', \"i'd\", 'do', 'own', 'whereby', 'willing', 'nearly', \"where's\", 'seeming', 'ask', 'seeing', \"couldn't\", 'corresponding', 'in', 'nine', 'others', 'w', 'herein', 'tell', 'or', 'before', \"can't\", 'l', 'consider', \"weren't\", 'else', 'himself', 'rd', 't', 'take', 'various', 'new', 'no', 'clearly', 'sub', 'whence', 'brief', 'uses', 'any', 'anyways', 'appropriate', \"doesn't\", \"ain't\", 'comes', 'everything', 'everywhere', 'hi', 'soon', 'off', 'am', 'whatever', 'furthermore', 'gotten', 'allow', 'come', 'keeps', 'without', 'mainly', 'thats', 'keep', 'et', 'theirs', \"it'll\", 'thereby', 'certainly', 'though', 'co', 'none', 'never', 'even', 'just', 'hardly', 'neither', 'unlikely', 'both', 'y', 'non', 'name', 'while', 'trying', 'novel', 'herself', 'think', \"let's\", 'thorough', 'instead', 'one', 'etc', 'who', 'last', \"we're\", 'hereafter', 'very', 'also', 'try', 'k', 'sensible', 'whereas', 'thru', 'our', 'downwards', 'used', 'into', 'okay', 'seven', 'hereupon', 'eg', 'th', 'q', 'goes', 'reasonably', 'definitely', \"they've\", 'tries', \"won't\", 'unto', 'x', 'seen', 'mostly', 'had', 'specify', 'being', 'may', 'ltd', 'like', 'possible', 'gone', 'd', \"what's\", 'especially', 'o', 'what', 'gives', 'anywhere', 'alone', 'entirely', 'will', 'thanx', 'best', 'therein', 'nevertheless', 'same', \"c's\", 'specified', 'former', 'self', 'sorry', \"who's\", 'having', 'been', 'around', 'still', 'whose', 'afterwards', \"it's\", 'using', 'could', 'on', 'unfortunately', 'but', 'f', 'were', 'inc', 'wonder', 'twice', 'besides', 'cant', 'able', 'be', 'anybody', \"we'd\", 'greetings', 'somehow', 'not', \"that's\", \"you're\", 'see', 'anyway', 'something', \"hadn't\", 'indeed', 'other', 'relatively', 'sure', 'vs', 'help', 'looks', 'whereafter', 'thoroughly', 'theres', 'here', 'truly', 'particularly', 'kept', 'enough', 'some', 'hence', 'yes', 'throughout', 'necessary', 'thereafter', 'wants', 'almost', 'concerning', 'outside', 'the', 'this', 'until', 'at', 'said', 'need', 'unless', 'every', 'howbeit', 'liked', 'respectively', 'indicate', 'know', 'regardless', 'them', 'sometime', 'wherever', \"there's\", 's', 'please', 'of', 'containing', 'there', 'few', 'lest', 'hereby', 'is', 'ours', 'plus', 'getting', 'beside', \"wouldn't\", 'v', 'more', 'thence', 'presumably', 'zero', 'someone', \"t's\", 'upon', 'we', 'follows', 'mean', \"here's\", 'known', 'toward', 'actually', 'below', 'consequently', 'she', 'would', 'nobody', 'several', 'inner', 'done', 'inasmuch', 'whoever', 'really', 'went', 'often', 'has', 'i', \"didn't\", 'seem', 'as', 'associated', 'gets', 'placed', 'old', 'either', 'with', \"haven't\", 'says', 'anyone', 'whole', 'looking', 'saying', 'serious', \"hasn't\", 'sometimes', 'go', 'j', 'myself', \"they'd\", 'asking', 'b', 'together', 'r', 'elsewhere', 'him', 'u', 'wish', 'exactly', 'about', 'seemed', 'latterly', 'they', 'needs', 'let', 'now', 'becoming', 'many', 'that', 'causes', 'their', 'onto', 'yet', 'happens', 'down', 'between', 'except', 'yourselves', 'somebody', 'it', 'got', 'z', 'again', 'three', 'better', \"c'mon\", 'over', 'h', 'nowhere', 'namely', 'right', 'allows', 'least', 'beforehand', \"we've\", 'likely', 'anyhow', 'another', 'forth', 'described', 'welcome', 'once', 'although', 'thank', 'awfully', 'thus', 'taken', 'merely', 'que', \"it'd\", 'saw', 'g', 'towards', 'six', 'whereupon', 'contains', 'too', 'up', 'followed', 'most', 'ever', 'indicates', 'cannot', 'contain', 'always', 'selves', 'her', 'he', 'ought', 'accordingly', 'somewhat'}\n"
     ]
    }
   ],
   "source": [
    "#read and create a set of stop \n",
    "stopwords=set(t.read_txt_file('./data/english.stop'))\n",
    "print (stopwords)"
   ]
  },
  {
   "cell_type": "markdown",
   "metadata": {},
   "source": [
    "Now you can re-build the model by excluding these words and again upload your results on Kaggle. \n",
    "\n",
    "Doing this simple trick can further improve your accuracy to 0.81768.\n",
    "\n",
    "For final submission attach the screen-shot of the leader-board with your score\n",
    "\n",
    "Insert ScreenShot of Leader-board Below\n",
    "----------------------------------------\n"
   ]
  },
  {
   "cell_type": "code",
   "execution_count": 72,
   "metadata": {},
   "outputs": [
    {
     "data": {
      "image/png": "[encoded data removed]",
      "text/plain": [
       "<Figure size 640x480 with 1 Axes>"
      ]
     },
     "metadata": {},
     "output_type": "display_data"
    }
   ],
   "source": [
    "# Path to the image file\n",
    "image_path = 'Kaggle.png'\n",
    "\n",
    "# Load the image\n",
    "img = Image.open(image_path)\n",
    "\n",
    "# Display the image\n",
    "plt.imshow(img)\n",
    "plt.axis('off')  # Turn off the axis\n",
    "plt.show()"
   ]
  },
  {
   "cell_type": "code",
   "execution_count": null,
   "metadata": {},
   "outputs": [],
   "source": [
    "# The End"
   ]
  }
 ],
 "metadata": {
  "anaconda-cloud": {},
  "kernelspec": {
   "display_name": "Python 3 (ipykernel)",
   "language": "python",
   "name": "python3"
  },
  "language_info": {
   "codemirror_mode": {
    "name": "ipython",
    "version": 3
   },
   "file_extension": ".py",
   "mimetype": "text/x-python",
   "name": "python",
   "nbconvert_exporter": "python",
   "pygments_lexer": "ipython3",
   "version": "3.11.4"
  }
 },
 "nbformat": 4,
 "nbformat_minor": 4
}
